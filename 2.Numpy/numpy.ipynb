{
 "cells": [
  {
   "cell_type": "code",
   "execution_count": 2,
   "metadata": {},
   "outputs": [],
   "source": [
    "import numpy as np"
   ]
  },
  {
   "cell_type": "code",
   "execution_count": 3,
   "metadata": {},
   "outputs": [
    {
     "name": "stdout",
     "output_type": "stream",
     "text": [
      "[[1 2 3]\n",
      " [4 5 6]\n",
      " [7 8 9]]\n"
     ]
    }
   ],
   "source": [
    "# Given a 2D list, create a numpy 2D array using it.\n",
    "# Note: Given 2D list is [[1, 2, 3], [4, 5, 6], [7, 8, 9]]\n",
    "arr = [[1, 2, 3], [4, 5, 6], [7, 8, 9]]\n",
    "# a = np.full((3,3),arr)\n",
    "a = np.full((len(arr),len(arr[0])),arr)\n",
    "print(a)"
   ]
  },
  {
   "cell_type": "code",
   "execution_count": 4,
   "metadata": {},
   "outputs": [
    {
     "name": "stdout",
     "output_type": "stream",
     "text": [
      "0 0 0 0 1 0 0 0 0 0 "
     ]
    }
   ],
   "source": [
    "# Create an integer array of size 10, where all the values should be 0 but the fifth value should be 1.\n",
    "a = np.zeros(10,dtype=int)\n",
    "a[4] = 1\n",
    "# print(a)\n",
    "for i in range(len(a)):\n",
    "    print(a[i],end = ' ')"
   ]
  },
  {
   "cell_type": "code",
   "execution_count": 5,
   "metadata": {},
   "outputs": [
    {
     "name": "stdout",
     "output_type": "stream",
     "text": [
      "0.32934335283779825\n"
     ]
    }
   ],
   "source": [
    "# if we initialize it empty it gives a random value but not in randint or randfloat\n",
    "a = np.random.rand()\n",
    "print(a)"
   ]
  },
  {
   "cell_type": "code",
   "execution_count": 6,
   "metadata": {},
   "outputs": [
    {
     "name": "stdout",
     "output_type": "stream",
     "text": [
      "9\n"
     ]
    }
   ],
   "source": [
    "# both included returns a number between low to high values\n",
    "a = np.random.randint(4,10)\n",
    "print(a)"
   ]
  },
  {
   "cell_type": "code",
   "execution_count": 7,
   "metadata": {},
   "outputs": [
    {
     "name": "stdout",
     "output_type": "stream",
     "text": [
      "[[0 6 6]\n",
      " [4 0 8]\n",
      " [3 0 0]]\n"
     ]
    }
   ],
   "source": [
    "print(np.random.randint(10,size = (3,3)))"
   ]
  },
  {
   "cell_type": "code",
   "execution_count": 8,
   "metadata": {},
   "outputs": [
    {
     "name": "stdout",
     "output_type": "stream",
     "text": [
      "[ 9 10 11 12 13 14 15 16 17 18 19 20 21 22 23 24 25 26 27 28 29 30 31 32\n",
      " 33 34 35 36 37 38 39 40 41 42 43 44 45 46 47 48 49]\n"
     ]
    }
   ],
   "source": [
    "# Create an array with values ranging consecutively from 9 to 49 (both inclusive).\n",
    "a = np.arange(9,50,dtype=int)\n",
    "print(a)"
   ]
  },
  {
   "cell_type": "code",
   "execution_count": 9,
   "metadata": {},
   "outputs": [
    {
     "name": "stdout",
     "output_type": "stream",
     "text": [
      "[[1 0 0 0 0 0]\n",
      " [0 1 0 0 0 0]\n",
      " [0 0 1 0 0 0]\n",
      " [0 0 0 1 0 0]\n",
      " [0 0 0 0 1 0]]\n"
     ]
    }
   ],
   "source": [
    "# Create a matrix having diagonal elements as 1 and all other elements as 0 of size (5, 6).\n",
    "a = np.eye(5,6,dtype=int)\n",
    "print(a)"
   ]
  },
  {
   "cell_type": "code",
   "execution_count": 10,
   "metadata": {},
   "outputs": [
    {
     "name": "stdout",
     "output_type": "stream",
     "text": [
      "[0.55555556 1.11111111 1.66666667 2.22222222 2.77777778 3.33333333\n",
      " 3.88888889 4.44444444]\n"
     ]
    }
   ],
   "source": [
    "# You are given a rope of length 5m. Cut the rope into 9 parts such that each part is of equal length.\n",
    "a = np.linspace(0,5,10)[1:9]\n",
    "print(a)"
   ]
  },
  {
   "cell_type": "code",
   "execution_count": 11,
   "metadata": {},
   "outputs": [
    {
     "name": "stdout",
     "output_type": "stream",
     "text": [
      "11 12 13 \n",
      "9 14 19 \n",
      "11 12 13 14 15 16 17 18 19 20 \n",
      "7 8 12 13 \n"
     ]
    }
   ],
   "source": [
    "# print 11 12 13 in a given 4*5 matrix\n",
    "# 9 4 19\n",
    "#  11 to 20\n",
    "# 7 8  12 13\n",
    "arr = np.array([[1,2,3,4,5],[6,7,8,9,10],[11,12,13,14,15],[16,17,18,19,20]])\n",
    "# print(arr)\n",
    "\n",
    "def iterate(value):\n",
    "    for i in value:\n",
    "        print(i,end = ' ')\n",
    "    print()\n",
    "\n",
    "def iterate1(value):\n",
    "    for i in value:\n",
    "        for j in i:\n",
    "            print(j,end = ' ')\n",
    "    print()\n",
    "\n",
    "value = iterate(arr[2,:3])\n",
    "value1 = iterate(arr[1:4,3])\n",
    "value2 = iterate1(arr[2:4,0:5])\n",
    "value3 = iterate1(arr[1:3,1:3])\n"
   ]
  },
  {
   "cell_type": "code",
   "execution_count": 12,
   "metadata": {},
   "outputs": [
    {
     "name": "stdout",
     "output_type": "stream",
     "text": [
      "1 4 7\n"
     ]
    }
   ],
   "source": [
    "# Given an integer array of size 10. Print the index of elements which are multiple of 3.\n",
    "a = np.array([ 1,  3,  5,  7,  9, 11, 13, 15, 17, 19])\n",
    "for i in np.where(a%3 == 0):\n",
    "    print(*i)\n"
   ]
  },
  {
   "cell_type": "code",
   "execution_count": 13,
   "metadata": {},
   "outputs": [
    {
     "name": "stdout",
     "output_type": "stream",
     "text": [
      "[-1  2 -1  4 -1  6 -1  8 -1 10]\n"
     ]
    }
   ],
   "source": [
    "# Given an integer array of size 10. Replace the odd number in numpy array with -1 ?\n",
    "# Note: Generate the following array\n",
    "a = np.array([1, 2, 3, 4, 5, 6, 7, 8, 9, 10])\n",
    "# condition\n",
    "a[a%2 != 0] = -1\n",
    "print(a)\n"
   ]
  },
  {
   "cell_type": "code",
   "execution_count": 14,
   "metadata": {},
   "outputs": [
    {
     "name": "stdout",
     "output_type": "stream",
     "text": [
      "11\n",
      "2\n",
      "13\n",
      "4\n",
      "15\n",
      "6\n",
      "0\n",
      "8\n",
      "19\n"
     ]
    }
   ],
   "source": [
    "# Given an integer array of size 9 and replace the first occurrence of maximum value by 0?\n",
    "# Note: Generate the following array\n",
    "a = np.array([11, 2, 13, 4, 15, 6, 27, 8, 19])\n",
    "a[a == max(a)] = 0\n",
    "for i in range(len(a)):\n",
    "    print(a[i])"
   ]
  },
  {
   "cell_type": "code",
   "execution_count": 15,
   "metadata": {},
   "outputs": [
    {
     "name": "stdout",
     "output_type": "stream",
     "text": [
      "[-3 -4 -5 -6 -7 -8]\n",
      "1\n",
      "2\n",
      "-3\n",
      "-4\n",
      "-5\n",
      "-6\n",
      "-7\n",
      "-8\n",
      "9\n",
      "10\n"
     ]
    }
   ],
   "source": [
    "# Given a 1D array, negate all elements which are between 3 and 8 (both inclusive)?\n",
    "# Note: Generate the following array\n",
    "arr = np.array([1, 2, 3, 4, 5, 6, 7, 8, 9, 10])\n",
    "m = (arr>2) & (arr<9)\n",
    "arr[m] *= -1\n",
    "print(arr[m])\n",
    "\n",
    "for i in range(len(arr)):\n",
    "    print(arr[i])\n",
    "\n"
   ]
  },
  {
   "cell_type": "code",
   "execution_count": 16,
   "metadata": {},
   "outputs": [
    {
     "name": "stdout",
     "output_type": "stream",
     "text": [
      "15 17 19 20 14 21 16 19 13 20 22 23   156 144 180 162 152 157 154 155 151 150 158 179\n",
      "[15 17 19 20 14 21 16 19 13 20 22 23]\n"
     ]
    }
   ],
   "source": [
    "# Given age and height of 20 students in two different numpy arrays with name age and height (in cms). Print the age of those students whose height is above 155 cm.\n",
    "# Print the Numpy array.\n",
    "\n",
    "age=np.array([15,17,19,20,14,21,16,19,13,20,22,23,21,16,18,19,20,15,17,18])\n",
    "height=np.array([156,144,180,162,152,157,154,155,151,150,158,179,126,182,183,154,159,160,172,149])\n",
    "\n",
    "# m = (height>=155)\n",
    "height1 = height[height>=155]\n",
    "# print(height)\n",
    "age1 = np.where(height1)\n",
    "# print(age)\n",
    "\n",
    "for i in age1:\n",
    "    print(*age[i], \" \",*height[i])\n",
    "    print(age[i])\n",
    "\n"
   ]
  },
  {
   "cell_type": "code",
   "execution_count": 17,
   "metadata": {},
   "outputs": [
    {
     "name": "stdout",
     "output_type": "stream",
     "text": [
      "[[ 6  5  4  3  2]\n",
      " [11 10  9  8  7]\n",
      " [16 15 14 13 12]\n",
      " [21 20 19 18 17]]\n"
     ]
    }
   ],
   "source": [
    "# Sort a given 2D array of shape (4, 5) by 2nd column (i.e. column at index 1) in ascending order.\n",
    "# That means, we should re-arrange complete row based on 2nd columns' values.\n",
    "# Given 2D array is:\n",
    "#  [[21 20 19 18 17]\n",
    "#   [16 15 14 13 12]\n",
    "#   [11 10  9  8  7]\n",
    "#   [ 6  5  4  3  2]]\n",
    "\n",
    "\n",
    "arr = np.array([[21,20,19,18,17],[16,15,14,13,12],[11,10,9,8,7],[6,5,4,3,2]])\n",
    "# for i in range(len(arr)-1):\n",
    "\n",
    "y = arr[arr[: , 1].argsort()]\n",
    "print(y)\n",
    "\n",
    "\n"
   ]
  },
  {
   "cell_type": "markdown",
   "metadata": {},
   "source": [
    "Terrorism Data"
   ]
  },
  {
   "cell_type": "code",
   "execution_count": 18,
   "metadata": {},
   "outputs": [
    {
     "name": "stdout",
     "output_type": "stream",
     "text": [
      "3771\n"
     ]
    }
   ],
   "source": [
    "# Find value of killed column only where country == ‘United States’?\n",
    "# Print 0 in place of missing values.\n",
    "# Print count of Killed as integer value.\n",
    "import csv\n",
    "# data = np.loadtxt('terrorismData.csv') # this gives error because it contains column names\n",
    "with open('terrorismData.csv',encoding='utf8') as file_obj:\n",
    "    data = csv.DictReader(file_obj,skipinitialspace = True)\n",
    "    killed = []\n",
    "    country = []\n",
    "    ans1 = []\n",
    "    for row in data:\n",
    "        killed.append(row['Killed'])\n",
    "        country.append(row['Country'])\n",
    "\n",
    "\n",
    "    np_killed = np.array(killed)\n",
    "    np_country = np.array(country)\n",
    "\n",
    "    np_killed[np_killed == ''] = '0.0'\n",
    "    np_killed = np.array(np_killed,dtype = float)\n",
    "\n",
    "    bool_arr = np_country == 'United States'\n",
    "    # bool_arr represents if there is united states in the row\n",
    "    # then it will declared as True else False\n",
    "    ans = np_killed[bool_arr]\n",
    "    for i in ans:\n",
    "        ans1.append(int(i))\n",
    "\n",
    "# sum ofpeoples killed in usa\n",
    "\n",
    "\n",
    "print(sum(ans1))"
   ]
  },
  {
   "cell_type": "code",
   "execution_count": 19,
   "metadata": {},
   "outputs": [
    {
     "name": "stdout",
     "output_type": "stream",
     "text": [
      "66330\n"
     ]
    }
   ],
   "source": [
    "# Find the number of attack held between day 10 and day 20?(ignoring the year and month)(including both day)\n",
    "# Print count of NumberOFAttack as integer value.\n",
    "with open('terrorismData.csv',encoding='utf8') as file_obj:\n",
    "    data = csv.DictReader(file_obj,skipinitialspace = True)\n",
    "\n",
    "    day = []\n",
    "    for row in data:\n",
    "        day.append(row['Day'])\n",
    "\n",
    "    np_day = np.array(day,dtype = float)\n",
    "    ans = np_day[(np_day >= 10) & (np_day <= 20)]\n",
    "\n",
    "    print(len(ans))"
   ]
  },
  {
   "cell_type": "code",
   "execution_count": 20,
   "metadata": {},
   "outputs": [
    {
     "name": "stdout",
     "output_type": "stream",
     "text": [
      "271\n"
     ]
    }
   ],
   "source": [
    "# Find the number of attack held between 1 Jan 2010 and 31 Jan 2010?(including both date).\n",
    "# Note Ignore the case where day is 0\n",
    "# Print count of NumberOFAttack as integer value.\n",
    "with open('terrorismData.csv',encoding='utf8') as file_obj:\n",
    "    data = csv.DictReader(file_obj,skipinitialspace = True)\n",
    "\n",
    "    day,month,year  = [],[],[]\n",
    "    for row in data:\n",
    "        day.append(row['Day'])\n",
    "        month.append(row['Month'])\n",
    "        year.append(row['Year'])\n",
    "\n",
    "\n",
    "    np_day = np.array(day,dtype = float)\n",
    "    np_month = np.array(month,dtype = float)\n",
    "    np_year = np.array(year,dtype = float)\n",
    "\n",
    "    # Didnt understand these concept\n",
    "    np_day=np_day[np_month==1]\n",
    "    np_year=np_year[np_month==1]\n",
    "    np_day=np_day[np_year==2010]\n",
    "\n",
    "    print(len(np_day[np_day != 0]))\n"
   ]
  },
  {
   "cell_type": "code",
   "execution_count": 21,
   "metadata": {},
   "outputs": [
    {
     "name": "stdout",
     "output_type": "stream",
     "text": [
      "22 Kargil District Separatists\n"
     ]
    }
   ],
   "source": [
    "# As we knew the Kargil ( in Jammu and Kashmir) War that took place between May 1999 and July 1999 (3 Months) ,so there was a huge conflict in Kashmir Valley during this period.\n",
    "# In this dataset, there is no information regarding the war between the two countries to find out the casualty during the war.\n",
    "# So find out the attack in this period in which maximum casualties happened.\n",
    "# Print the count of casualties (as integer), city in which that attack happened and name of attack group.\n",
    "# Note : Casualty = Killed + Wounded.Fill the empty value in killed or wounded feature to 0.\n",
    "with open('terrorismData.csv',encoding='utf8') as file_obj:\n",
    "    data = csv.DictReader(file_obj,skipinitialspace = True)\n",
    "\n",
    "    city = []\n",
    "    casualty = []\n",
    "    for row in data:\n",
    "        if row['State'] == 'Jammu and Kashmir' and row['Year'] == \"1999\":\n",
    "            if row['Month'] == '5' or row['Month'] == '6' or row['Month'] == '7':\n",
    "                city.append([row['City'],row['Group']])\n",
    "                casualty.append([row['Killed'],row['Wounded']])  \n",
    "                    \n",
    "    np_city = np.array(city)\n",
    "    np_casualty = np.array(casualty)\n",
    "\n",
    "    np_casualty[np_casualty == ''] = '0.0'\n",
    "    np_casualty = np.array(np_casualty,dtype = float)\n",
    "\n",
    "    np_casualty = np.sum(np_casualty,axis=1)\n",
    "    index = np.argmax(np_casualty)\n",
    "\n",
    "    print(int(np_casualty[index]),np_city[index][0],np_city[index][1])\n",
    "   "
   ]
  },
  {
   "cell_type": "code",
   "execution_count": 22,
   "metadata": {},
   "outputs": [
    {
     "name": "stdout",
     "output_type": "stream",
     "text": [
      "5628\n"
     ]
    }
   ],
   "source": [
    "# Find the casualty in the Red Corridor States ? Mainly Red corridor states include Jharkhand, Odisha, Andhra Pradesh, and Chhattisgarh.\n",
    "# Note: Casualty=Killed +Wounded\n",
    "# Print count of Casualty as integer value.\n",
    "\n",
    "\n",
    "with open('terrorismData.csv',encoding=\"utf8\") as file_obj :\n",
    "    data = csv.DictReader(file_obj,skipinitialspace=True)\n",
    "    \n",
    "    casualty = []\n",
    "    for row in data:\n",
    "        if row['State']=='Chhattisgarh' or row['State']=='Odisha' or row['State']=='Jharkhand' or row['State']=='Andhra Pradesh':\n",
    "                casualty.append([row[\"Killed\"],row[\"Wounded\"]])\n",
    "\n",
    "    np_casualty = np.array(casualty)\n",
    "    \n",
    "    np_casualty[np_casualty==''] = \"0.0\"\n",
    "    np_casualty = np.array(np_casualty, dtype = float)\n",
    "    \n",
    "    np_casualty = np.sum(np_casualty, axis=1)\n",
    "    total_casualty = np.sum(np_casualty)\n",
    "    print(int(total_casualty))"
   ]
  },
  {
   "cell_type": "code",
   "execution_count": 23,
   "metadata": {},
   "outputs": [
    {
     "name": "stdout",
     "output_type": "stream",
     "text": [
      "15 6500\n"
     ]
    }
   ],
   "source": [
    "# Find the most frequent day of attack in a terrorismDataset ?\n",
    "# Note: Here np.unique can be used.\n",
    "# Print count of frequent day and number of attack as Integer value.\n",
    "with open('terrorismData.csv',encoding=\"utf8\") as file_obj :\n",
    "    data = csv.DictReader(file_obj,skipinitialspace=True)\n",
    "    \n",
    "    day = []\n",
    "    for row in data:\n",
    "        day.append(row['Day'])\n",
    "        \n",
    "    np_day = np.array(day, dtype='int')\n",
    "    day, count = np.unique(np_day, return_counts=True)\n",
    "\n",
    "    index = np.argmax(count)\n",
    "    print(day[index], count[index])"
   ]
  }
 ],
 "metadata": {
  "kernelspec": {
   "display_name": "Python 3.10.4 64-bit",
   "language": "python",
   "name": "python3"
  },
  "language_info": {
   "codemirror_mode": {
    "name": "ipython",
    "version": 3
   },
   "file_extension": ".py",
   "mimetype": "text/x-python",
   "name": "python",
   "nbconvert_exporter": "python",
   "pygments_lexer": "ipython3",
   "version": "3.10.4"
  },
  "orig_nbformat": 4,
  "vscode": {
   "interpreter": {
    "hash": "a42ccb73e7d9bfdf27e036f1d2b8b681e55fc0743cc5586bc2474d4a60f4b886"
   }
  }
 },
 "nbformat": 4,
 "nbformat_minor": 2
}
